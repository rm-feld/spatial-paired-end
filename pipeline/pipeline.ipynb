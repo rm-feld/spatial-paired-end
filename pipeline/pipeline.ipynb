{
 "cells": [
  {
   "cell_type": "code",
   "execution_count": 1,
   "metadata": {},
   "outputs": [],
   "source": [
    "import subprocess\n",
    "import numpy as np \n",
    "import matplotlib.pyplot as plt \n",
    "import csv \n",
    "import tree as t\n",
    "from functools import reduce\n",
    "import pandas as pd\n",
    "import copy"
   ]
  },
  {
   "cell_type": "code",
   "execution_count": 2,
   "metadata": {},
   "outputs": [],
   "source": [
    "# high level path info/utils\n",
    "REF = \"/Users/rfeld/Documents/Research/SPATIAL/spatial_24/ref/chr21.fa\"\n",
    "REFNAME = \"chr21\"\n",
    "OUTDIR = \"/Users/rfeld/Documents/Research/SPATIAL/output\"\n",
    "READ_PREFIX = \"h\"\n",
    "SEQ_PREFIX = \"h\""
   ]
  },
  {
   "cell_type": "code",
   "execution_count": 3,
   "metadata": {},
   "outputs": [
    {
     "data": {
      "text/plain": [
       "0"
      ]
     },
     "execution_count": 3,
     "metadata": {},
     "output_type": "execute_result"
    }
   ],
   "source": [
    "# make directory and set up file structure \n",
    "seqdir = f'{OUTDIR}/{REFNAME}/sequences/{SEQ_PREFIX}'\n",
    "readdir = f'{OUTDIR}/{REFNAME}/reads/{READ_PREFIX}'\n",
    "subprocess.call([\"mkdir\", \"-p\", seqdir])\n",
    "subprocess.call([\"mkdir\", \"-p\", readdir])"
   ]
  },
  {
   "cell_type": "code",
   "execution_count": 6,
   "metadata": {},
   "outputs": [],
   "source": [
    "# cnasim specs\n",
    "cnasim_dict = {\n",
    "    \"n\": 2, \n",
    "    \"m\": 0, \n",
    "    \"j\": 1, \n",
    "    \"k\": 960,\n",
    "    \"block_length\": 60\n",
    "}\n",
    "numcells = 2\n",
    "mode = 0\n",
    "founder_mult = 1\n",
    "resolution = 960 #FIXME for alignment with current ref sequence ease (easy fix)"
   ]
  },
  {
   "cell_type": "code",
   "execution_count": 7,
   "metadata": {},
   "outputs": [
    {
     "name": "stdout",
     "output_type": "stream",
     "text": [
      "Output directory: /Users/rfeld/Documents/Research/SPATIAL/output/chr21/sequences/h\n",
      "Preparing ground truth tree...\n",
      "Initializing reference genome...\n",
      "Number of chromosomes in reference: 1\n",
      "Generating genomes, events, and profiles...\n",
      "Formating and saving profiles\n"
     ]
    },
    {
     "data": {
      "text/plain": [
       "CompletedProcess(args=['cnasim', '-m', '0', '-n', '2', '-r1', '/Users/rfeld/Documents/Research/SPATIAL/spatial_24/ref/chr21.fa', '-o', '/Users/rfeld/Documents/Research/SPATIAL/output/chr21/sequences/h', '-j', '1', '-k', '960'], returncode=0)"
      ]
     },
     "execution_count": 7,
     "metadata": {},
     "output_type": "execute_result"
    }
   ],
   "source": [
    "# currently single-allele referencing\n",
    "cna_call = f\"cnasim -m {mode} -n {numcells} -r1 {REF} -o {seqdir} -j {founder_mult} -k {resolution}\"\n",
    "subprocess.run(cna_call.split())"
   ]
  },
  {
   "cell_type": "code",
   "execution_count": 113,
   "metadata": {},
   "outputs": [
    {
     "name": "stdout",
     "output_type": "stream",
     "text": [
      "[[['cell1', ['cell4', 'cell5'], 'ancestor3'], 'ancestor1', ['cell2', 'cell3'], 'ancestor2'], 'founder']\n"
     ]
    }
   ],
   "source": [
    "with open(f'{seqdir}/tree.nwk', \"r\") as f:\n",
    "    nwk_string = f.readline()\n",
    "nwk_tree = t.parse_newick_structure(nwk_string)\n",
    "\n",
    "# flatten for list access \n",
    "cells_flattened = []\n",
    "traversal = t.parse_newick_structure(nwk_string)\n",
    "def _recursive_traversal(t):\n",
    "    if len(t) == 0:\n",
    "        return []\n",
    "    elif type(t[-1]) == str:\n",
    "        return [t[-1]] + _recursive_traversal(t[:-1])\n",
    "    else:\n",
    "        return _recursive_traversal(t[-1]) + _recursive_traversal(t[:-1])\n",
    "\n",
    "cells_flattened = _recursive_traversal(nwk_tree)\n",
    "\n",
    "print(traversal)"
   ]
  },
  {
   "cell_type": "code",
   "execution_count": null,
   "metadata": {},
   "outputs": [],
   "source": [
    "# process focal, choose a cell #FIXME something less manual\n",
    "def read_focal(fname, cells):\n",
    "    # cell names \n",
    "    out = dict([(c, []) for c in cells])\n",
    "    # read in\n",
    "    raw_focal = []\n",
    "    with open(fname, \"r\") as f:\n",
    "        reader = csv.reader(f, delimiter = '\\t')\n",
    "        for row in reader:\n",
    "            raw_focal.append(row)\n",
    "\n",
    "    for row in raw_focal[1:]:\n",
    "        out[row[0]].append(row[2:])\n",
    "    return out\n",
    "\n",
    "focal_loc = f'{seqdir}/focal_events.tsv'\n",
    "focal = read_focal(focal_loc, cells_flattened)"
   ]
  },
  {
   "cell_type": "code",
   "execution_count": 115,
   "metadata": {},
   "outputs": [],
   "source": [
    "traversal = t.parse_newick_structure(nwk_string)\n",
    "# --- PRIMARY ROOT CONSTRUCTION ---\n",
    "# root = t.Cell(traversal[-1])\n",
    "\n",
    "# store sequence for root \n",
    "with open(REF, \"r\") as f:\n",
    "    ref = []\n",
    "    for row in f:\n",
    "        ref.append(row.strip())\n",
    "ref = ref[1:]\n",
    "\n",
    "# join rows by resolution\n",
    "_rows_per_res = resolution // len(ref[0])\n",
    "_num_groups = len(ref) // _rows_per_res \n",
    "_left_groups = len(ref) % _rows_per_res\n",
    "\n",
    "_ref = []\n",
    "for i in range(_num_groups):\n",
    "    _ref.append(''.join(ref[i * _rows_per_res : (i + 1) * _rows_per_res]))\n",
    "if _left_groups != 0:\n",
    "    _ref.append(''.join(ref[-_left_groups:]))\n",
    "\n",
    "SEQLEN = len(_ref) * resolution"
   ]
  },
  {
   "cell_type": "code",
   "execution_count": 116,
   "metadata": {},
   "outputs": [
    {
     "name": "stdout",
     "output_type": "stream",
     "text": [
      "founder\n",
      "  ancestor2\n",
      "    cell2\n",
      "    cell3\n",
      "  ancestor1\n",
      "    ancestor3\n",
      "      cell4\n",
      "      cell5\n",
      "    cell1\n",
      "dict_keys(['founder', 'ancestor2', 'cell2', 'cell3', 'ancestor1', 'ancestor3', 'cell4', 'cell5', 'cell1'])\n"
     ]
    }
   ],
   "source": [
    "def build_tree(traversal, focal):\n",
    "    \"\"\"\n",
    "    Build a tree from a right-to-left traversal list.\n",
    "    \n",
    "    At each level the list is assumed to consist of one or more groups encoded as:\n",
    "    \n",
    "       [ immediate_children, parent ]\n",
    "    \n",
    "    where immediate_children is exactly the element immediately to the left of the parent's name.\n",
    "    (If that element is a list of strings, it yields leaf nodes; if it is a mixed list,\n",
    "    it is processed recursively in the same way.) Any elements further left form another group\n",
    "    at the same level.\n",
    "    \n",
    "    The root is given as the last element of the overall traversal.\n",
    "    \"\"\"\n",
    "    # Create the root (founder)\n",
    "    root_name = traversal[-1]\n",
    "    root = t.Cell(cellname=root_name)\n",
    "\n",
    "    celldict = {root_name: root}\n",
    "    \n",
    "    def _populate_mutations(node, focal):\n",
    "        _id = 0\n",
    "        for row in focal.get(node.cellname, []):\n",
    "            allele = int(row[0])\n",
    "            tumor_start = int(row[1]) - 1\n",
    "            ref_start = int(row[2]) - 1\n",
    "            length = int(row[3])\n",
    "            copies = int(row[4] == \"gain\") * (1 + int(row[5]))\n",
    "            node.mutations.append(t.Mutation(\n",
    "                edgeid=f'{node.cellname}.{_id}',\n",
    "                allele=allele,\n",
    "                num_copies=copies,\n",
    "                relstart=tumor_start,\n",
    "                refstart=ref_start,\n",
    "                length=length,\n",
    "                d=cnasim_dict))\n",
    "            _id += 1\n",
    "    _populate_mutations(root, focal)\n",
    "    def _process_group(lst, parent):\n",
    "        \"\"\"\n",
    "        Process a list 'lst' assumed to encode one or more groups.\n",
    "        Returns nothing (nodes are attached to parent).\n",
    "        \"\"\"\n",
    "        i = len(lst) - 1\n",
    "        while i >= 0:\n",
    "            # The parent's name is always at the end of a group.\n",
    "            # If we have at least two elements, then lst[i] is the parent's name\n",
    "            # and lst[i-1] is its immediate children.\n",
    "            if i - 1 >= 0:\n",
    "                group_parent = lst[i]  # Expected to be a string\n",
    "                children_elem = lst[i-1]\n",
    "                # Create the parent node for this group:\n",
    "                parent_node = t.Cell(cellname=group_parent, parent=parent, founder=root)\n",
    "                _populate_mutations(parent_node, focal)\n",
    "                parent.children.append(parent_node)\n",
    "                celldict[group_parent] = parent_node\n",
    "                # Now, process the immediate children.\n",
    "                if isinstance(children_elem, list):\n",
    "                    # If it's a pure list of strings, create leaves.\n",
    "                    if all(isinstance(x, str) for x in children_elem):\n",
    "                        for child_name in children_elem:\n",
    "                            child = t.Cell(cellname=child_name, parent=parent_node, founder=root)\n",
    "                            _populate_mutations(child, focal)\n",
    "                            parent_node.children.append(child)\n",
    "                            celldict[child_name] = child\n",
    "                    else:\n",
    "                        # Mixed list: process recursively.\n",
    "                        _process_group(children_elem, parent_node)\n",
    "                elif isinstance(children_elem, str):\n",
    "                    # A single leaf.\n",
    "                    child = t.Cell(cellname=children_elem, parent=parent_node, founder=root)\n",
    "                    _populate_mutations(child, focal)\n",
    "                    parent_node.children.append(child)\n",
    "                    celldict[children_elem] = child\n",
    "                else:\n",
    "                    raise ValueError(\"Unexpected type in group (expected list or string).\")\n",
    "                i -= 2  # We've consumed this group.\n",
    "            else:\n",
    "                # If there's a leftover element that doesn't form a complete group, treat it as a leaf.\n",
    "                elem = lst[i]\n",
    "                if isinstance(elem, str):\n",
    "                    leaf = t.Cell(cellname=elem, parent=parent, founder=root)\n",
    "                    _populate_mutations(leaf, focal)\n",
    "                    parent.children.append(leaf)\n",
    "                    celldict[elem] = leaf\n",
    "                elif isinstance(elem, list):\n",
    "                    # Process the list as a pure group of leaves.\n",
    "                    for s in elem:\n",
    "                        leaf = t.Cell(cellname=s, parent=parent, founder=root)\n",
    "                        _populate_mutations(leaf, focal)\n",
    "                        parent.children.append(leaf)\n",
    "                        celldict[elem] = leaf\n",
    "                i -= 1\n",
    "\n",
    "    def _recursive_build(subtree, parent):\n",
    "        \"\"\"\n",
    "        Process a subtree level.\n",
    "        If the subtree is a pure list of strings, attach them as leaves.\n",
    "        Otherwise, treat the subtree as one or more groups.\n",
    "        \"\"\"\n",
    "        if isinstance(subtree, list) and all(isinstance(x, str) for x in subtree):\n",
    "            # Pure list of leaves.\n",
    "            for s in subtree:\n",
    "                leaf = t.Cell(cellname=s, parent=parent, founder=root)\n",
    "                _populate_mutations(leaf, focal)\n",
    "                parent.children.append(leaf)\n",
    "        elif isinstance(subtree, list):\n",
    "            _process_group(subtree, parent)\n",
    "        else:\n",
    "            # Not a list: it should be a string.\n",
    "            leaf = t.Cell(cellname=subtree, parent=parent, founder=root)\n",
    "            _populate_mutations(leaf, focal)\n",
    "            parent.children.append(leaf)\n",
    "    \n",
    "    # The main traversal's first element is the top-level subtree.\n",
    "    _recursive_build(traversal[0], root)\n",
    "    return root, celldict\n",
    "\n",
    "# Build the tree\n",
    "root, celldict = build_tree(traversal, focal)\n",
    "\n",
    "# Function to print tree structure\n",
    "def print_tree(node, level=0):\n",
    "    print(\"  \" * level + node.cellname)\n",
    "    for child in node.children:\n",
    "        print_tree(child, level + 1)\n",
    "\n",
    "root.ref = _ref\n",
    "print_tree(root)\n",
    "print(celldict.keys())\n"
   ]
  },
  {
   "cell_type": "code",
   "execution_count": 117,
   "metadata": {},
   "outputs": [
    {
     "data": {
      "text/plain": [
       "[Mutation(edgeid='founder.0', allele=0, num_copies=0, relstart=32008320, refstart=32007360, length=687360, d={'n': 5, 'm': 0, 'j': 1, 'k': 960, 'block_length': 60}),\n",
       " Mutation(edgeid='founder.1', allele=0, num_copies=2, relstart=29180160, refstart=29179200, length=7659840, d={'n': 5, 'm': 0, 'j': 1, 'k': 960, 'block_length': 60}),\n",
       " Mutation(edgeid='ancestor2.0', allele=0, num_copies=3, relstart=29766720, refstart=29765760, length=1870080, d={'n': 5, 'm': 0, 'j': 1, 'k': 960, 'block_length': 60})]"
      ]
     },
     "execution_count": 117,
     "metadata": {},
     "output_type": "execute_result"
    }
   ],
   "source": [
    "cell = celldict['cell3']\n",
    "allele = 0\n",
    "\n",
    "cell.all_mutations(allele)\n"
   ]
  },
  {
   "cell_type": "code",
   "execution_count": 118,
   "metadata": {},
   "outputs": [],
   "source": [
    "def check_non_overlapping(cell, allele):\n",
    "    ms = cell.all_mutations(allele)\n",
    "\n",
    "    if len(ms) <= 1:\n",
    "        return ms\n",
    "    \n",
    "    # Create intervals (start, end) and keys (i, i)\n",
    "    vals = [(m.relstart, m.relstart + m.num_copies * m.length) for m in ms]\n",
    "    parents = [m.edgeid.split('.')[0] for m in ms]\n",
    "    keys = [(i, i) for i in range(len(ms))]\n",
    "    \n",
    "    # Zip and flatten by sorting on interval points\n",
    "    zipped = list(zip(vals, keys))\n",
    "    flat = sorted([(point, i) for (start, end), (i, _) in zipped for point in (start, end)])\n",
    "    \n",
    "    # Identify non-overlapping indices\n",
    "    non_overlapping = set()\n",
    "    last_id = None\n",
    "    for _, i in flat:\n",
    "        if i == last_id:\n",
    "            non_overlapping.add(i)  # If i appears back-to-back, it's non-overlapping\n",
    "        last_id = i\n",
    "    \n",
    "    return [ms[i] for i in non_overlapping]  # Return sorted list of non-overlapping indices\n",
    "\n",
    "candidates = dict()\n",
    "for cell_name in celldict.keys():\n",
    "    cell = celldict[cell_name]\n",
    "    no_0 = check_non_overlapping(cell, 0)\n",
    "    no_1 = check_non_overlapping(cell, 1)\n",
    "    non_overlapping = no_1 + no_0 \n",
    "    candidates[cell_name] = non_overlapping[::]"
   ]
  },
  {
   "cell_type": "code",
   "execution_count": 119,
   "metadata": {},
   "outputs": [],
   "source": [
    "flattened_candidates = [m for cellms in candidates.values() for m in cellms]\n",
    "sorted_candidates = sorted(flattened_candidates, key = lambda m: m.length * m.num_copies)"
   ]
  },
  {
   "cell_type": "code",
   "execution_count": 120,
   "metadata": {},
   "outputs": [],
   "source": [
    "# target insertions for now\n",
    "insertions = [sc for sc in sorted_candidates if sc.num_copies != 0]"
   ]
  },
  {
   "cell_type": "code",
   "execution_count": 121,
   "metadata": {},
   "outputs": [],
   "source": [
    "# derived values for tm\n",
    "tm = insertions[0]\n",
    "tm_cellname = tm.edgeid.split('.')[0]\n",
    "tm_allele = tm.allele \n",
    "relloc = (tm.relstart, tm.relstart + tm.length * tm.num_copies)\n",
    "BUFFER = 100000 #CHECK: should be sufficient given size of reads\n",
    "#FIXME should probably compute length of mutated sequence\n",
    "_left, _right = max(0, relloc[0] - BUFFER), relloc[1] + BUFFER\n",
    "\n",
    "tm_seq = celldict[tm_cellname].sequence(tm_allele)"
   ]
  },
  {
   "cell_type": "code",
   "execution_count": 122,
   "metadata": {},
   "outputs": [
    {
     "data": {
      "text/plain": [
       "Mutation(edgeid='cell5.0', allele=0, num_copies=2, relstart=24407040, refstart=20274240, length=504960, d={'n': 5, 'm': 0, 'j': 1, 'k': 960, 'block_length': 60})"
      ]
     },
     "execution_count": 122,
     "metadata": {},
     "output_type": "execute_result"
    }
   ],
   "source": [
    "tm"
   ]
  },
  {
   "cell_type": "code",
   "execution_count": 123,
   "metadata": {},
   "outputs": [],
   "source": [
    "# write cell sequence, along with smaller subsequence\n",
    "# FIXME generalize out of single (probably call this fn)\n",
    "def writefa(filedir, seq, cellname, allele, targets = []):\n",
    "    with open(f'{filedir}/{cellname}.{allele}.fa', \"w\") as f:\n",
    "        f.write(f\">{cellname}.{allele}\\n\")\n",
    "        for line in seq:\n",
    "            f.write(line + \"\\n\")\n",
    "    \n",
    "    if len(targets) > 0:\n",
    "        for target in targets:\n",
    "            left = target[0] // resolution ; right = target[1] // resolution\n",
    "            l = left * resolution; r = right * resolution \n",
    "\n",
    "            augmented_filepath = f'{filedir}/{cellname}.{allele}.{l}.{r}.fa'\n",
    "            with open(augmented_filepath, \"w\") as f:\n",
    "                f.write(f\">{cellname}.{allele}.{l}.{r}\\n\")\n",
    "                for line in seq[left:right]:\n",
    "                    f.write(line + \"\\n\")\n",
    "    return f'{filedir}/{cellname}.{allele}.fa', augmented_filepath\n",
    "filedir = f'{OUTDIR}/{REFNAME}/sequences/{SEQ_PREFIX}'\n",
    "fp, aug_fp = writefa(filedir, tm_seq, tm_cellname, tm_allele, [(_left, _right)])"
   ]
  },
  {
   "cell_type": "code",
   "execution_count": 124,
   "metadata": {},
   "outputs": [],
   "source": [
    "NUMREADS = 100\n",
    "READLEN = 100\n",
    "OUTERDIST = 250 \n",
    "samtools = \"/Users/rfeld/Documents/Research/SPATIAL/spatial_24/DWGSIM/samtools/samtools\""
   ]
  },
  {
   "cell_type": "code",
   "execution_count": 125,
   "metadata": {},
   "outputs": [
    {
     "name": "stderr",
     "output_type": "stream",
     "text": [
      "[dwgsim_core] cell5.0.24306240.25516800 length: 1210560\n",
      "[dwgsim_core] 1 sequences, total length: 1210560\n",
      "[dwgsim_core] Currently on: \n",
      "[dwgsim_core] 100\n",
      "[dwgsim_core] Complete!\n"
     ]
    },
    {
     "data": {
      "text/plain": [
       "0"
      ]
     },
     "execution_count": 125,
     "metadata": {},
     "output_type": "execute_result"
    }
   ],
   "source": [
    "# Generate Reads\n",
    "READ1 = f\"{readdir}/{READ_PREFIX}.bwa.read1.fastq\"\n",
    "READ2 = f\"{readdir}/{READ_PREFIX}.bwa.read2.fastq\"\n",
    "READMODE = 1\n",
    "\n",
    "# readprocessing = [\n",
    "#     f\"dwgsim -N {NUMREADS} -1 {READLEN} -2 {READLEN} -d {OUTERDIST} -S 1 {aug_fp} {READ_PREFIX}\",\n",
    "#     f\"gunzip {READ1}\", f\"gunzip {READ2}\", \n",
    "#     f\"bwa mem {REF} {READ1} {READ2} > {readdir}/target_{tm.edgeid}.sam\",\n",
    "#     f\"{samtools} view -bT {REF} {readdir}/target_{tm.edgeid}.sam > {readdir}/target_{tm.edgeid}.bam\",\n",
    "#     f\"{samtools} sort {readdir}/target_{tm.edgeid}.bam > {readdir}/target_{tm.edgeid}_sorted\"\n",
    "#     ]\n",
    "line =f\"dwgsim -N {NUMREADS} -1 {READLEN} -2 {READLEN} -d {OUTERDIST} -S {READMODE} {aug_fp} {READ_PREFIX}\"\n",
    "# readprocessing = [\n",
    "#     f\"dwgsim -N {NUMREADS} -1 {READLEN} -2 {READLEN} -d {OUTERDIST} -S 1 {aug_fp} {READ_PREFIX}\",\n",
    "#     f\"bwa mem {REF} {READ1} {READ2} > {readdir}/target_{tm.edgeid}.sam\",\n",
    "#     f\"{samtools} view -bT {REF} {readdir}/target_{tm.edgeid}.sam > {readdir}/target_{tm.edgeid}.bam\",\n",
    "#     f\"{samtools} sort {readdir}/target_{tm.edgeid}.bam > {readdir}/target_{tm.edgeid}_sorted.bam\"\n",
    "#     ]\n",
    "subprocess.call(line, shell = True, cwd=readdir)"
   ]
  },
  {
   "cell_type": "code",
   "execution_count": 131,
   "metadata": {},
   "outputs": [],
   "source": [
    "def _compute_lr(mode):\n",
    "    if mode == 0:\n",
    "        pass\n",
    "    elif mode == 1:\n",
    "        def compute_lr(row):\n",
    "            if row[\"strand\"] == 1:\n",
    "                l = row[\"pos\"]; r = row[\"mpos\"]\n",
    "            else:\n",
    "                l = row[\"mpos\"]; r = row[\"pos\"]\n",
    "            return pd.Series({\"l\": l, \n",
    "                              \"r\": r})\n",
    "    elif mode == 2:\n",
    "        pass\n",
    "\n",
    "    return compute_lr\n",
    "\n",
    "compute_lr = _compute_lr(READMODE)"
   ]
  },
  {
   "cell_type": "code",
   "execution_count": null,
   "metadata": {},
   "outputs": [
    {
     "name": "stdout",
     "output_type": "stream",
     "text": [
      "Extracting read names...\n",
      "Found 97 dually mapped reads.\n",
      "Found 0 unmapped reads.\n",
      "Filtering dually mapped reads...\n",
      "Filtering unmapped reads...\n"
     ]
    }
   ],
   "source": [
    "import subprocess\n",
    "import gzip\n",
    "import os\n",
    "\n",
    "# Define input and output files\n",
    "cwd = readdir\n",
    "read1 = f\"{readdir}/{READ_PREFIX}.bwa.read1.fastq.gz\"\n",
    "read2 = f\"{readdir}/{READ_PREFIX}.bwa.read2.fastq.gz\"\n",
    "dual_read1 = f\"{readdir}/filtered_read1.fastq\"\n",
    "dual_read2 = f\"{readdir}/filtered_read2.fastq\"\n",
    "unmapped = f\"{readdir}/unmapped.fastq\"\n",
    "\n",
    "def get_read_names(file_path):\n",
    "    read_names = set()\n",
    "    with gzip.open(file_path, 'rt') as f:\n",
    "        while True:\n",
    "            header = f.readline().strip()\n",
    "            f.readline()  # seq\n",
    "            f.readline()  # plus\n",
    "            f.readline()  # qual\n",
    "            if not header:\n",
    "                break\n",
    "            if header.startswith(f\"@{tm_cellname}\"):  # Mapped reads\n",
    "                read_name = header.split()[0].replace(\"/1\", \"\").replace(\"/2\", \"\")\n",
    "                read_names.add(read_name)\n",
    "    return read_names\n",
    "\n",
    "# 1. Extract read names from both files\n",
    "print(\"Extracting read names...\")\n",
    "read1_names = get_read_names(read1)\n",
    "read2_names = get_read_names(read2)\n",
    "\n",
    "# 2. Identify dually mapped and unmapped reads\n",
    "dually_mapped = read1_names & read2_names\n",
    "unmapped_reads = (read1_names | read2_names) - dually_mapped\n",
    "\n",
    "print(f\"Found {len(dually_mapped)} dually mapped reads.\")\n",
    "print(f\"Found {len(unmapped_reads)} unmapped reads.\")\n",
    "\n",
    "# 3. Function to filter reads\n",
    "def filter_reads(input_file, output_file, names_to_keep):\n",
    "    with gzip.open(input_file, 'rt') as f_in, open(output_file, 'w') as f_out:\n",
    "        while True:\n",
    "            header = f_in.readline()\n",
    "            seq = f_in.readline()\n",
    "            plus = f_in.readline()\n",
    "            qual = f_in.readline()\n",
    "            if not header:\n",
    "                break\n",
    "            read_name = header.strip().split()[0].replace(\"/1\", \"\").replace(\"/2\", \"\")\n",
    "            if read_name in names_to_keep:\n",
    "                f_out.write(header + seq + plus + qual)\n",
    "\n",
    "# 4. Filter dually mapped reads\n",
    "print(\"Filtering dually mapped reads...\")\n",
    "filter_reads(read1, dual_read1, dually_mapped)\n",
    "filter_reads(read2, dual_read2, dually_mapped)\n",
    "\n",
    "# 5. Filter unmapped reads (combine both ends)\n",
    "print(\"Filtering unmapped reads...\")\n",
    "with open(unmapped, 'w') as f_out:\n",
    "    filter_reads(read1, f_out.name, unmapped_reads)\n",
    "    filter_reads(read2, f_out.name, unmapped_reads)"
   ]
  },
  {
   "cell_type": "code",
   "execution_count": 128,
   "metadata": {},
   "outputs": [
    {
     "name": "stderr",
     "output_type": "stream",
     "text": [
      "[M::bwa_idx_load_from_disk] read 0 ALT contigs\n",
      "[M::process] read 194 sequences (19400 bp)...\n",
      "[M::mem_pestat] # candidate unique pairs for (FF, FR, RF, RR): (0, 0, 0, 93)\n",
      "[M::mem_pestat] skip orientation FF as there are not enough pairs\n",
      "[M::mem_pestat] skip orientation FR as there are not enough pairs\n",
      "[M::mem_pestat] skip orientation RF as there are not enough pairs\n",
      "[M::mem_pestat] analyzing insert size distribution for orientation RR...\n",
      "[M::mem_pestat] (25, 50, 75) percentile: (113, 147, 196)\n",
      "[M::mem_pestat] low and high boundaries for computing mean and std.dev: (1, 362)\n",
      "[M::mem_pestat] mean and std.dev: (149.90, 53.65)\n",
      "[M::mem_pestat] low and high boundaries for proper pairs: (1, 445)\n",
      "[M::mem_process_seqs] Processed 194 reads in 0.026 CPU sec, 0.028 real sec\n",
      "[main] Version: 0.7.18-r1243-dirty\n",
      "[main] CMD: bwa mem /Users/rfeld/Documents/Research/SPATIAL/spatial_24/ref/chr21.fa /Users/rfeld/Documents/Research/SPATIAL/output/chr21/reads/h/filtered_read1.fastq /Users/rfeld/Documents/Research/SPATIAL/output/chr21/reads/h/filtered_read2.fastq\n",
      "[main] Real time: 0.053 sec; CPU: 0.051 sec\n",
      "[samopen] SAM header is present: 1 sequences.\n",
      "\n",
      "Usage:   samtools sort [options] <in.bam> <out.prefix>\n",
      "\n",
      "Options: -n        sort by read name\n",
      "         -f        use <out.prefix> as full file name instead of prefix\n",
      "         -o        final output to stdout\n",
      "         -l INT    compression level, from 0 to 9 [-1]\n",
      "         -@ INT    number of sorting and compression threads [1]\n",
      "         -m INT    max memory per thread; suffix K/M/G recognized [768M]\n",
      "\n"
     ]
    }
   ],
   "source": [
    "readprocessing2 = [\n",
    "    f\"bwa mem {REF} {dual_read1} {dual_read2} > {readdir}/target_{tm.edgeid}.sam\",\n",
    "    f\"{samtools} view -bT {REF} {readdir}/target_{tm.edgeid}.sam > {readdir}/target_{tm.edgeid}.bam\",\n",
    "    f\"{samtools} sort {readdir}/target_{tm.edgeid}.bam > {readdir}/target_{tm.edgeid}_sorted.bam\",\n",
    "    f'{samtools} view -F 4 -f 8 {readdir}/target_{tm.edgeid}.bam |' + \" awk '{print $1, $2, $4, $8, $5}' > lmapped.txt\",\n",
    "    f'{samtools} view -F 8 -f 4 {readdir}/target_{tm.edgeid}.bam |'  \" awk '{print $1, $2, $4, $8, $5}' > rmapped.txt\",\n",
    "    f'{samtools} view -f 0x2 {readdir}/target_{tm.edgeid}.bam |' + \" awk '{print $1, $2, $4, $8, $5}' > fullmapped.txt\"]\n",
    "\n",
    "\n",
    "for line in readprocessing2:\n",
    "    subprocess.call(line, shell = True, cwd=readdir)"
   ]
  },
  {
   "cell_type": "code",
   "execution_count": 132,
   "metadata": {},
   "outputs": [
    {
     "data": {
      "text/html": [
       "<div>\n",
       "<style scoped>\n",
       "    .dataframe tbody tr th:only-of-type {\n",
       "        vertical-align: middle;\n",
       "    }\n",
       "\n",
       "    .dataframe tbody tr th {\n",
       "        vertical-align: top;\n",
       "    }\n",
       "\n",
       "    .dataframe thead th {\n",
       "        text-align: right;\n",
       "    }\n",
       "</style>\n",
       "<table border=\"1\" class=\"dataframe\">\n",
       "  <thead>\n",
       "    <tr style=\"text-align: right;\">\n",
       "      <th></th>\n",
       "      <th>read_name</th>\n",
       "      <th>pos</th>\n",
       "      <th>mpos</th>\n",
       "      <th>mapq</th>\n",
       "      <th>second_read</th>\n",
       "      <th>first_read</th>\n",
       "      <th>mate_strand</th>\n",
       "      <th>strand</th>\n",
       "      <th>mate_unmapped</th>\n",
       "      <th>unmapped_q</th>\n",
       "      <th>proper</th>\n",
       "      <th>paired</th>\n",
       "      <th>l</th>\n",
       "      <th>r</th>\n",
       "    </tr>\n",
       "  </thead>\n",
       "  <tbody>\n",
       "    <tr>\n",
       "      <th>0</th>\n",
       "      <td>cell5.0.24306240.25516800_646273_646333_1_1_0_...</td>\n",
       "      <td>20314753</td>\n",
       "      <td>20314813</td>\n",
       "      <td>60</td>\n",
       "      <td>0</td>\n",
       "      <td>1</td>\n",
       "      <td>1</td>\n",
       "      <td>1</td>\n",
       "      <td>0</td>\n",
       "      <td>0</td>\n",
       "      <td>1</td>\n",
       "      <td>1</td>\n",
       "      <td>20314753</td>\n",
       "      <td>20314813</td>\n",
       "    </tr>\n",
       "    <tr>\n",
       "      <th>2</th>\n",
       "      <td>cell5.0.24306240.25516800_406457_406237_0_0_0_...</td>\n",
       "      <td>20579897</td>\n",
       "      <td>20579677</td>\n",
       "      <td>60</td>\n",
       "      <td>0</td>\n",
       "      <td>1</td>\n",
       "      <td>0</td>\n",
       "      <td>0</td>\n",
       "      <td>0</td>\n",
       "      <td>0</td>\n",
       "      <td>1</td>\n",
       "      <td>1</td>\n",
       "      <td>20579677</td>\n",
       "      <td>20579897</td>\n",
       "    </tr>\n",
       "    <tr>\n",
       "      <th>4</th>\n",
       "      <td>cell5.0.24306240.25516800_493079_492938_0_0_0_...</td>\n",
       "      <td>20666519</td>\n",
       "      <td>20666378</td>\n",
       "      <td>60</td>\n",
       "      <td>0</td>\n",
       "      <td>1</td>\n",
       "      <td>0</td>\n",
       "      <td>0</td>\n",
       "      <td>0</td>\n",
       "      <td>0</td>\n",
       "      <td>1</td>\n",
       "      <td>1</td>\n",
       "      <td>20666378</td>\n",
       "      <td>20666519</td>\n",
       "    </tr>\n",
       "    <tr>\n",
       "      <th>6</th>\n",
       "      <td>cell5.0.24306240.25516800_920782_920832_1_1_0_...</td>\n",
       "      <td>20589262</td>\n",
       "      <td>20589312</td>\n",
       "      <td>60</td>\n",
       "      <td>0</td>\n",
       "      <td>1</td>\n",
       "      <td>1</td>\n",
       "      <td>1</td>\n",
       "      <td>0</td>\n",
       "      <td>0</td>\n",
       "      <td>1</td>\n",
       "      <td>1</td>\n",
       "      <td>20589262</td>\n",
       "      <td>20589312</td>\n",
       "    </tr>\n",
       "    <tr>\n",
       "      <th>8</th>\n",
       "      <td>cell5.0.24306240.25516800_849924_849857_0_0_0_...</td>\n",
       "      <td>20518404</td>\n",
       "      <td>20518337</td>\n",
       "      <td>60</td>\n",
       "      <td>0</td>\n",
       "      <td>1</td>\n",
       "      <td>0</td>\n",
       "      <td>0</td>\n",
       "      <td>0</td>\n",
       "      <td>0</td>\n",
       "      <td>1</td>\n",
       "      <td>1</td>\n",
       "      <td>20518337</td>\n",
       "      <td>20518404</td>\n",
       "    </tr>\n",
       "  </tbody>\n",
       "</table>\n",
       "</div>"
      ],
      "text/plain": [
       "                                           read_name       pos      mpos  \\\n",
       "0  cell5.0.24306240.25516800_646273_646333_1_1_0_...  20314753  20314813   \n",
       "2  cell5.0.24306240.25516800_406457_406237_0_0_0_...  20579897  20579677   \n",
       "4  cell5.0.24306240.25516800_493079_492938_0_0_0_...  20666519  20666378   \n",
       "6  cell5.0.24306240.25516800_920782_920832_1_1_0_...  20589262  20589312   \n",
       "8  cell5.0.24306240.25516800_849924_849857_0_0_0_...  20518404  20518337   \n",
       "\n",
       "   mapq  second_read  first_read  mate_strand  strand  mate_unmapped  \\\n",
       "0    60            0           1            1       1              0   \n",
       "2    60            0           1            0       0              0   \n",
       "4    60            0           1            0       0              0   \n",
       "6    60            0           1            1       1              0   \n",
       "8    60            0           1            0       0              0   \n",
       "\n",
       "   unmapped_q  proper  paired         l         r  \n",
       "0           0       1       1  20314753  20314813  \n",
       "2           0       1       1  20579677  20579897  \n",
       "4           0       1       1  20666378  20666519  \n",
       "6           0       1       1  20589262  20589312  \n",
       "8           0       1       1  20518337  20518404  "
      ]
     },
     "execution_count": 132,
     "metadata": {},
     "output_type": "execute_result"
    }
   ],
   "source": [
    "#FIXME no underscores in name - dots only for field parsing alignment\n",
    "import pandas as pd\n",
    "data = f\"{readdir}/fullmapped.txt\"\n",
    "df = pd.read_csv(data, sep = \" \", header = None, \n",
    "                 names=[\"read_name\", \"flag\", \"pos\", \"mpos\", \"mapq\"])\n",
    "\n",
    "df[\"flag\"] = df[\"flag\"].apply(lambda x: bin(x)[2:].zfill(11))\n",
    "cols = df[\"flag\"].apply(list)\n",
    "\n",
    "\n",
    "bnames = [\"paired\", \"proper\", \"unmapped_q\", \"mate_unmapped\", \"strand\", \"mate_strand\",\n",
    "          \"first_read\", \"second_read\", \"not_prim\", \"QC\", \"op_PCR\"][::-1]\n",
    "df = pd.concat([df, pd.DataFrame(cols.tolist(), columns = bnames).astype(int)], axis = 1)\n",
    "df.drop(['flag', 'QC', 'op_PCR', 'not_prim'],\n",
    "         axis = 1, inplace = True)\n",
    "\n",
    "unpaired_df = df[df[\"proper\"] == 0]\n",
    "df = df[df[\"proper\"] == 1] \n",
    "df = df[df[\"first_read\"] == 1]\n",
    "df[[\"l\", \"r\"]] = df.apply(compute_lr, axis = 1)\n",
    "df.head()"
   ]
  },
  {
   "cell_type": "code",
   "execution_count": 136,
   "metadata": {},
   "outputs": [],
   "source": [
    "threshold = 500 # check\n",
    "sus_df = df[(df[\"l\"] > df[\"r\"]) | (df[\"r\"] - df[\"l\"] > threshold)]"
   ]
  },
  {
   "cell_type": "code",
   "execution_count": 137,
   "metadata": {},
   "outputs": [
    {
     "data": {
      "text/html": [
       "<div>\n",
       "<style scoped>\n",
       "    .dataframe tbody tr th:only-of-type {\n",
       "        vertical-align: middle;\n",
       "    }\n",
       "\n",
       "    .dataframe tbody tr th {\n",
       "        vertical-align: top;\n",
       "    }\n",
       "\n",
       "    .dataframe thead th {\n",
       "        text-align: right;\n",
       "    }\n",
       "</style>\n",
       "<table border=\"1\" class=\"dataframe\">\n",
       "  <thead>\n",
       "    <tr style=\"text-align: right;\">\n",
       "      <th></th>\n",
       "      <th>read_name</th>\n",
       "      <th>pos</th>\n",
       "      <th>mpos</th>\n",
       "      <th>mapq</th>\n",
       "      <th>second_read</th>\n",
       "      <th>first_read</th>\n",
       "      <th>mate_strand</th>\n",
       "      <th>strand</th>\n",
       "      <th>mate_unmapped</th>\n",
       "      <th>unmapped_q</th>\n",
       "      <th>proper</th>\n",
       "      <th>paired</th>\n",
       "      <th>l</th>\n",
       "      <th>r</th>\n",
       "    </tr>\n",
       "  </thead>\n",
       "  <tbody>\n",
       "  </tbody>\n",
       "</table>\n",
       "</div>"
      ],
      "text/plain": [
       "Empty DataFrame\n",
       "Columns: [read_name, pos, mpos, mapq, second_read, first_read, mate_strand, strand, mate_unmapped, unmapped_q, proper, paired, l, r]\n",
       "Index: []"
      ]
     },
     "execution_count": 137,
     "metadata": {},
     "output_type": "execute_result"
    }
   ],
   "source": [
    "sus_df"
   ]
  },
  {
   "cell_type": "code",
   "execution_count": 140,
   "metadata": {},
   "outputs": [
    {
     "data": {
      "image/png": "[encoded data removed]",
      "text/plain": [
       "<Figure size 640x480 with 2 Axes>"
      ]
     },
     "metadata": {},
     "output_type": "display_data"
    }
   ],
   "source": [
    "sampled_df = df\n",
    "plt.scatter(sampled_df[\"l\"], sampled_df[\"r\"], c = sampled_df[\"mapq\"])\n",
    "plt.colorbar()\n",
    "plt.show()"
   ]
  }
 ],
 "metadata": {
  "kernelspec": {
   "display_name": "cnasim",
   "language": "python",
   "name": "python3"
  },
  "language_info": {
   "codemirror_mode": {
    "name": "ipython",
    "version": 3
   },
   "file_extension": ".py",
   "mimetype": "text/x-python",
   "name": "python",
   "nbconvert_exporter": "python",
   "pygments_lexer": "ipython3",
   "version": "3.11.11"
  }
 },
 "nbformat": 4,
 "nbformat_minor": 2
}
