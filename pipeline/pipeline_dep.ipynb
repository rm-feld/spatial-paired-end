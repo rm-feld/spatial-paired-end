{
 "cells": [
  {
   "cell_type": "code",
   "execution_count": 2,
   "metadata": {},
   "outputs": [],
   "source": [
    "import os \n",
    "import numpy as np \n",
    "import matplotlib.pyplot as plt \n",
    "import csv "
   ]
  },
  {
   "cell_type": "code",
   "execution_count": 16,
   "metadata": {},
   "outputs": [],
   "source": [
    "refloc = \"/Users/rfeld/Documents/Research/SPATIAL/spatial_24/ref/chr21.fa\"\n",
    "mytsv = \"/Users/rfeld/Documents/Research/SPATIAL/output/test1/focal_events.tsv\"\n",
    "out = \"/Users/rfeld/Documents/Research/SPATIAL/output/test1/cell1_allele1.fa\""
   ]
  },
  {
   "cell_type": "code",
   "execution_count": 6,
   "metadata": {},
   "outputs": [
    {
     "data": {
      "text/plain": [
       "[['cell1', 'chr21', '1', '36190001', '36199001', '763000', 'gain', '2']]"
      ]
     },
     "execution_count": 6,
     "metadata": {},
     "output_type": "execute_result"
    }
   ],
   "source": [
    "# tree update later \n",
    "rows = []\n",
    "with open(mytsv, \"r\") as f:\n",
    "    f.readline()\n",
    "    rows.append(f.readline().split(sep='\\t'))\n",
    "\n",
    "rows"
   ]
  },
  {
   "cell_type": "code",
   "execution_count": 14,
   "metadata": {},
   "outputs": [
    {
     "data": {
      "text/plain": [
       "'tggatcacaaggtcaggagatcgagaacatcctggctgacatggtgaaaccccatctctactaaaaatacaaaaaattagccaggcgtggtggtgggcacctgtactcccagctactcaggaggctgaggcaggagaatggcatgaaccagggaggcagagcttgcagtgagccaagatagcgccactgcactccagcatgggcaacagagcgagactctgtctctaaataaataaataaataaataaatgttgtatcccacagaaaaaatcgaatatccttgtcagttgtggtataatgaactctcatcagatctttcatcacagccatttcatattctttatcatttagatattatttccccctgatgctttcctgaaagctcctgcaatcagctacaggtcagaatgttcatctccatcacgggattccctctgagacacacagaaaagagtatgcaagatagtctggttataggcttctgatgatattgcttaaataactttaagaccatacacttcgctcagtgaagatctccagaagtctgcttcagaaattgatgggttcatgacactgctaacccaagatgcaacaagactggaattgattacatggtactgaatgaactgatgaaaattgattataattttatagctttttggagcattgctggttctttaatgttctagtttctggacttaagaaatctctttctcttaacctaactgtaacatacaatttagtagattatacttttgaaaacagaagtgaagcatttatcttttttcccctgcctgatttttccagaattttgaaatccttactgaacactcttattttcacgatgatatagttgttagcaaaagtccaataagaatctgttcaccttgaacagagacctcagaaataatgccgcatatctacaaccatctgatctttgacaaacctgacaaaaacaagcaatggggaaaggattccctatttaataaatggtgctggg'"
      ]
     },
     "execution_count": 14,
     "metadata": {},
     "output_type": "execute_result"
    }
   ],
   "source": [
    "# 1000 base pair requirement in structure\n",
    "with open(refloc, \"r\") as f:\n",
    "    seq = f.read().split('\\n')\n",
    "\n",
    "seqheader = seq.pop(0)\n",
    "\n",
    "seq = ''.join(seq)\n",
    "\n",
    "newseq = []\n",
    "\n",
    "i = 0 \n",
    "while (i + 1) * 1000 <= len(seq):\n",
    "    newseq.append(seq[i * 1000: (i + 1) * 1000])\n",
    "    i += 1\n",
    "newseq.append(seq[(i + 1) * 1000:])\n",
    "\n"
   ]
  },
  {
   "cell_type": "code",
   "execution_count": 11,
   "metadata": {},
   "outputs": [
    {
     "data": {
      "text/plain": [
       "60"
      ]
     },
     "execution_count": 11,
     "metadata": {},
     "output_type": "execute_result"
    }
   ],
   "source": [
    "len(seq[1])"
   ]
  },
  {
   "cell_type": "code",
   "execution_count": 17,
   "metadata": {},
   "outputs": [],
   "source": [
    "# just testing with deletions for now\n",
    "with open(out, \"w\") as f:\n",
    "    f.write(f'>{rows[0][0]}\\n')\n",
    "    loc = int(rows[0][4]) - 1\n",
    "    ncopies = int(rows[0][-1])\n",
    "    length = int(rows[0][-3])\n",
    "\n",
    "    indicies = [loc // 1000 + i for i in range(length // 1000)]\n",
    "    for i in indicies:\n",
    "        newseq[i] = ''\n",
    "    \n",
    "    for subseq in newseq:\n",
    "        f.write(subseq)"
   ]
  }
 ],
 "metadata": {
  "kernelspec": {
   "display_name": "cnasim",
   "language": "python",
   "name": "python3"
  },
  "language_info": {
   "codemirror_mode": {
    "name": "ipython",
    "version": 3
   },
   "file_extension": ".py",
   "mimetype": "text/x-python",
   "name": "python",
   "nbconvert_exporter": "python",
   "pygments_lexer": "ipython3",
   "version": "3.11.11"
  }
 },
 "nbformat": 4,
 "nbformat_minor": 2
}
